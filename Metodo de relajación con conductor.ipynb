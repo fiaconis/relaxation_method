{
 "cells": [
  {
   "cell_type": "code",
   "execution_count": null,
   "metadata": {},
   "outputs": [],
   "source": [
    "import numpy as np\n",
    "import matplotlib.pyplot as plt\n"
   ]
  },
  {
   "cell_type": "code",
   "execution_count": 50,
   "metadata": {},
   "outputs": [
    {
     "name": "stdout",
     "output_type": "stream",
     "text": [
      "[[3.         1.         1.         1.         1.         1.\n",
      "  1.         1.         1.         1.         1.         1.\n",
      "  1.         1.         1.         1.         1.         1.\n",
      "  1.         1.         1.         1.         1.         5.        ]\n",
      " [3.         0.1        0.1        0.1        0.1        0.1\n",
      "  0.1        0.1        0.1        0.1        0.1        0.58972543\n",
      "  0.808267   0.93465474 1.02683438 1.10738098 1.18805932 1.27817319\n",
      "  1.38900457 1.53920161 1.76668403 2.16214483 2.97635908 5.        ]\n",
      " [3.         0.1        0.1        0.1        0.1        0.1\n",
      "  0.1        0.1        0.1        0.1        0.1        0.45063499\n",
      "  0.70868826 0.90351813 1.06530246 1.21463092 1.36668383 1.53562955\n",
      "  1.73864407 2.00111836 2.36539007 2.90553645 3.74329157 5.        ]\n",
      " [3.         0.1        0.1        0.1        0.1        0.1\n",
      "  0.1        0.1        0.1        0.1        0.1        0.4041267\n",
      "  0.67233362 0.90542794 1.11622744 1.31915753 1.52841663 1.75901819\n",
      "  2.02882474 2.36123846 2.78822204 3.35131968 4.0912709  5.        ]\n",
      " [3.         0.1        0.1        0.1        0.1        0.1\n",
      "  0.1        0.1        0.1        0.1        0.1        0.39353873\n",
      "  0.6710925  0.92963372 1.17502316 1.41735658 1.66880841 1.94320322\n",
      "  2.25639946 2.6267897  3.07494069 3.6202498  4.27047252 5.        ]\n",
      " [3.         0.1        0.1        0.1        0.1        0.1\n",
      "  0.1        0.1        0.1        0.1        0.1        0.39893641\n",
      "  0.68886499 0.96699264 1.23687647 1.50643892 1.78625888 2.08858842\n",
      "  2.42678159 2.81458136 3.26450209 3.78426684 4.37036957 5.        ]\n",
      " [3.         0.1        0.1        0.1        0.1        0.1\n",
      "  0.1        0.1        0.1        0.1        0.1        0.41334264\n",
      "  0.71843958 1.01259685 1.29905288 1.58526556 1.8812016  2.19811171\n",
      "  2.54755866 2.94025333 3.3842204  3.88194649 4.42673909 5.        ]\n",
      " [3.         0.1        0.1        0.1        0.1        0.1\n",
      "  0.1        0.1        0.1        0.1        0.1        0.43599533\n",
      "  0.75895502 1.06590384 1.36147439 1.65437071 1.95517214 2.27509994\n",
      "  2.62508958 3.0146542  3.45018065 3.93256019 4.45464051 5.        ]\n",
      " [3.         0.1        0.1        0.1        0.1        0.1\n",
      "  0.1        0.1        0.1        0.1        0.1        0.47168443\n",
      "  0.81548252 1.1305906  1.42657184 1.71557257 2.01001814 2.32202805\n",
      "  2.66304706 3.04309447 3.46928875 3.94347366 4.45926296 5.        ]\n",
      " [3.         0.1        0.1        0.1        0.1        0.1\n",
      "  0.1        0.1        0.1        0.1        0.1        0.53526058\n",
      "  0.90070112 1.21440559 1.49865138 1.7713313  2.04730151 2.33994865\n",
      "  2.66197753 3.02538906 3.44040705 3.91278325 4.43893784 5.        ]\n",
      " [3.         0.1        0.1        0.1        0.1        0.1\n",
      "  0.1        0.1        0.1        0.1        0.1        0.66865742\n",
      "  1.03765675 1.32768049 1.58229822 1.8238012  2.06790942 2.32848889\n",
      "  2.6195266  2.95607817 3.35416791 3.82831488 4.38370529 5.        ]\n",
      " [3.         1.54500067 0.99286385 0.76334859 0.66276354 0.61815779\n",
      "  0.60004629 0.59719183 0.60856257 0.64413688 0.73828467 1.00171291\n",
      "  1.25358881 1.47636242 1.67906095 1.87366709 2.0720473  2.28657202\n",
      "  2.53156279 2.82522995 3.19187213 3.66260341 4.26756856 5.        ]\n",
      " [3.         2.08713882 1.56310615 1.29776696 1.16954779 1.10982134\n",
      "  1.08483557 1.08015849 1.09292163 1.12970039 1.20728916 1.34632119\n",
      "  1.49862376 1.64512019 1.78391691 1.91975979 2.06004155 2.21418993\n",
      "  2.39492333 2.62140729 2.92548768 3.36265834 4.02396562 5.        ]\n",
      " [3.         2.24044845 1.87465498 1.69506532 1.60783933 1.56674421\n",
      "  1.54931618 1.54568495 1.55326514 1.57445402 1.61485058 1.67765923\n",
      "  1.74946524 1.82157813 1.89172725 1.96141414 2.0341697  2.11522331\n",
      "  2.21253376 2.33998854 2.52601324 2.83857678 3.4656356  5.        ]\n",
      " [3.         2.         2.         2.         2.         2.\n",
      "  2.         2.         2.         2.         2.         2.\n",
      "  2.         2.         2.         2.         2.         2.\n",
      "  2.         2.         2.         2.         2.         5.        ]]\n"
     ]
    },
    {
     "data": {
      "image/png": "[encoded data removed]",
      "text/plain": [
       "<Figure size 432x288 with 1 Axes>"
      ]
     },
     "metadata": {
      "needs_background": "light"
     },
     "output_type": "display_data"
    }
   ],
   "source": [
    "def calculate_potential(grid, conductor_mask, epsilon=1e-6, max_iterations=10000):\n",
    "    height, width = grid.shape\n",
    "    prev_grid = np.copy(grid)\n",
    "    # Get the indices of the masked elements\n",
    "    masked_indices = np.where(conductor_mask)\n",
    "    # Get the indices of the points immediately outside the mask\n",
    "    outside_indices = (masked_indices[0] - 1, masked_indices[1])\n",
    "    # Get the values of the points immediately outside the mask\n",
    "    outside_values = grid[outside_indices]\n",
    "\n",
    "    for iteration in range(max_iterations):\n",
    "        for i in range(1, height - 1):\n",
    "            for j in range(1, width - 1):\n",
    "                if not conductor_mask[i, j]:\n",
    "                    grid[i, j] = (grid[i-1, j] + grid[i+1, j] + grid[i, j-1] + grid[i, j+1]) / 4\n",
    "                else:\n",
    "                    # Calculate the mean of the outside values\n",
    "                    mean = np.mean(outside_values)\n",
    "                    grid[i, j] = mean \n",
    "\n",
    "        # Check convergence\n",
    "        if np.max(np.abs(grid - prev_grid)) < epsilon:\n",
    "            break\n",
    "\n",
    "        prev_grid = np.copy(grid)\n",
    "\n",
    "    return grid\n",
    "\n"
   ]
  },
  {
   "cell_type": "code",
   "execution_count": 51,
   "metadata": {},
   "outputs": [
    {
     "name": "stdout",
     "output_type": "stream",
     "text": [
      "[[3.         1.         1.         1.         1.         1.\n",
      "  1.         1.         1.         1.         1.         1.\n",
      "  1.         1.         1.         1.         1.         1.\n",
      "  1.         1.         1.         1.         1.         5.        ]\n",
      " [3.         0.1        0.1        0.1        0.1        0.1\n",
      "  0.1        0.1        0.1        0.1        0.1        0.58972543\n",
      "  0.808267   0.93465474 1.02683438 1.10738098 1.18805932 1.27817319\n",
      "  1.38900457 1.53920161 1.76668403 2.16214483 2.97635908 5.        ]\n",
      " [3.         0.1        0.1        0.1        0.1        0.1\n",
      "  0.1        0.1        0.1        0.1        0.1        0.45063499\n",
      "  0.70868826 0.90351813 1.06530246 1.21463092 1.36668383 1.53562955\n",
      "  1.73864407 2.00111836 2.36539007 2.90553645 3.74329157 5.        ]\n",
      " [3.         0.1        0.1        0.1        0.1        0.1\n",
      "  0.1        0.1        0.1        0.1        0.1        0.4041267\n",
      "  0.67233362 0.90542794 1.11622744 1.31915753 1.52841663 1.75901819\n",
      "  2.02882474 2.36123846 2.78822204 3.35131968 4.0912709  5.        ]\n",
      " [3.         0.1        0.1        0.1        0.1        0.1\n",
      "  0.1        0.1        0.1        0.1        0.1        0.39353873\n",
      "  0.6710925  0.92963372 1.17502316 1.41735658 1.66880841 1.94320322\n",
      "  2.25639946 2.6267897  3.07494069 3.6202498  4.27047252 5.        ]\n",
      " [3.         0.1        0.1        0.1        0.1        0.1\n",
      "  0.1        0.1        0.1        0.1        0.1        0.39893641\n",
      "  0.68886499 0.96699264 1.23687647 1.50643892 1.78625888 2.08858842\n",
      "  2.42678159 2.81458136 3.26450209 3.78426684 4.37036957 5.        ]\n",
      " [3.         0.1        0.1        0.1        0.1        0.1\n",
      "  0.1        0.1        0.1        0.1        0.1        0.41334264\n",
      "  0.71843958 1.01259685 1.29905288 1.58526556 1.8812016  2.19811171\n",
      "  2.54755866 2.94025333 3.3842204  3.88194649 4.42673909 5.        ]\n",
      " [3.         0.1        0.1        0.1        0.1        0.1\n",
      "  0.1        0.1        0.1        0.1        0.1        0.43599533\n",
      "  0.75895502 1.06590384 1.36147439 1.65437071 1.95517214 2.27509994\n",
      "  2.62508958 3.0146542  3.45018065 3.93256019 4.45464051 5.        ]\n",
      " [3.         0.1        0.1        0.1        0.1        0.1\n",
      "  0.1        0.1        0.1        0.1        0.1        0.47168443\n",
      "  0.81548252 1.1305906  1.42657184 1.71557257 2.01001814 2.32202805\n",
      "  2.66304706 3.04309447 3.46928875 3.94347366 4.45926296 5.        ]\n",
      " [3.         0.1        0.1        0.1        0.1        0.1\n",
      "  0.1        0.1        0.1        0.1        0.1        0.53526058\n",
      "  0.90070112 1.21440559 1.49865138 1.7713313  2.04730151 2.33994865\n",
      "  2.66197753 3.02538906 3.44040705 3.91278325 4.43893784 5.        ]\n",
      " [3.         0.1        0.1        0.1        0.1        0.1\n",
      "  0.1        0.1        0.1        0.1        0.1        0.66865742\n",
      "  1.03765675 1.32768049 1.58229822 1.8238012  2.06790942 2.32848889\n",
      "  2.6195266  2.95607817 3.35416791 3.82831488 4.38370529 5.        ]\n",
      " [3.         1.54500067 0.99286385 0.76334859 0.66276354 0.61815779\n",
      "  0.60004629 0.59719183 0.60856257 0.64413688 0.73828467 1.00171291\n",
      "  1.25358881 1.47636242 1.67906095 1.87366709 2.0720473  2.28657202\n",
      "  2.53156279 2.82522995 3.19187213 3.66260341 4.26756856 5.        ]\n",
      " [3.         2.08713882 1.56310615 1.29776696 1.16954779 1.10982134\n",
      "  1.08483557 1.08015849 1.09292163 1.12970039 1.20728916 1.34632119\n",
      "  1.49862376 1.64512019 1.78391691 1.91975979 2.06004155 2.21418993\n",
      "  2.39492333 2.62140729 2.92548768 3.36265834 4.02396562 5.        ]\n",
      " [3.         2.24044845 1.87465498 1.69506532 1.60783933 1.56674421\n",
      "  1.54931618 1.54568495 1.55326514 1.57445402 1.61485058 1.67765923\n",
      "  1.74946524 1.82157813 1.89172725 1.96141414 2.0341697  2.11522331\n",
      "  2.21253376 2.33998854 2.52601324 2.83857678 3.4656356  5.        ]\n",
      " [3.         2.         2.         2.         2.         2.\n",
      "  2.         2.         2.         2.         2.         2.\n",
      "  2.         2.         2.         2.         2.         2.\n",
      "  2.         2.         2.         2.         2.         5.        ]]\n"
     ]
    },
    {
     "data": {
      "image/png": "[encoded data removed]",
      "text/plain": [
       "<Figure size 432x288 with 1 Axes>"
      ]
     },
     "metadata": {
      "needs_background": "light"
     },
     "output_type": "display_data"
    }
   ],
   "source": [
    "# Define the grid size\n",
    "height, width = 15, 24\n",
    "\n",
    "# Create the grid\n",
    "grid = np.zeros((height, width))\n",
    "\n",
    "# Create the conductor mask\n",
    "conductor_mask = np.zeros((height, width), dtype=bool)\n",
    "\n",
    "# Define the conductor's position and size\n",
    "conductor_x = 1  # Starting x-coordinate of the conductor\n",
    "conductor_y = 1  # Starting y-coordinate of the conductor\n",
    "conductor_width = 10  # Width of the conductor\n",
    "conductor_height = 10  # Height of the conductor\n",
    "\n",
    "# Set the conductor mask\n",
    "conductor_mask[conductor_y:conductor_y+conductor_height, conductor_x:conductor_x+conductor_width] = True\n",
    "\n",
    "# Set the initial potential of the grid points\n",
    "front_up = 1\n",
    "front_dw = 2\n",
    "front_r = 5\n",
    "front_l = 3\n",
    "grid.fill(0)\n",
    "grid[0].fill(front_up)\n",
    "grid[-1].fill(front_dw)\n",
    "grid[:,0].fill(front_l)\n",
    "grid[:,-1].fill(front_r)\n",
    "\n",
    "# Calculate the electrostatic potential\n",
    "result = calculate_potential(grid, conductor_mask)\n",
    "\n",
    "# Print the result\n",
    "plt.imshow(grid)\n",
    "print(grid)"
   ]
  },
  {
   "cell_type": "code",
   "execution_count": null,
   "metadata": {},
   "outputs": [],
   "source": []
  }
 ],
 "metadata": {
  "kernelspec": {
   "display_name": "Python 3",
   "language": "python",
   "name": "python3"
  },
  "language_info": {
   "codemirror_mode": {
    "name": "ipython",
    "version": 3
   },
   "file_extension": ".py",
   "mimetype": "text/x-python",
   "name": "python",
   "nbconvert_exporter": "python",
   "pygments_lexer": "ipython3",
   "version": "3.8.4"
  }
 },
 "nbformat": 4,
 "nbformat_minor": 4
}
